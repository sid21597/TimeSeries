{
  "nbformat": 4,
  "nbformat_minor": 0,
  "metadata": {
    "colab": {
      "name": "Stock Price -Sidharth.ipynb",
      "provenance": [],
      "collapsed_sections": []
    },
    "kernelspec": {
      "name": "python3",
      "display_name": "Python 3"
    },
    "language_info": {
      "name": "python"
    },
    "accelerator": "GPU"
  },
  "cells": [
    {
      "cell_type": "code",
      "metadata": {
        "id": "FLaOiwQTAC01"
      },
      "source": [
        "\"\"\"\n",
        "The following notebook explores usage of LSTM to predict stock value.\n",
        "The data is obtained from Yahoo Finance API and read usinf yfinance library.\n",
        "Walmart stock is used in this notebook for prediction purposes.\n",
        "Different libraries like Matplotlib, Numpy, Pandas, Scikit Learn have been used.\n",
        "Mean Squared Error of 6.1404e-04 has been obtained while training.\n",
        "Real and predicted stock prices are plotted for visual comparision.\n",
        "\"\"\""
      ],
      "execution_count": null,
      "outputs": []
    },
    {
      "cell_type": "code",
      "metadata": {
        "colab": {
          "base_uri": "https://localhost:8080/"
        },
        "id": "D2JraZcfAHOm",
        "outputId": "5127bd77-d52c-4403-9c77-f75549f62958"
      },
      "source": [
        "\"\"\"\n",
        "yfinance is a python library which helps us access Yahoo Historical stocks data\n",
        "\"\"\"\n",
        "pip install yfinance"
      ],
      "execution_count": 145,
      "outputs": [
        {
          "output_type": "stream",
          "text": [
            "Requirement already satisfied: yfinance in /usr/local/lib/python3.7/dist-packages (0.1.63)\n",
            "Requirement already satisfied: multitasking>=0.0.7 in /usr/local/lib/python3.7/dist-packages (from yfinance) (0.0.9)\n",
            "Requirement already satisfied: lxml>=4.5.1 in /usr/local/lib/python3.7/dist-packages (from yfinance) (4.6.3)\n",
            "Requirement already satisfied: requests>=2.20 in /usr/local/lib/python3.7/dist-packages (from yfinance) (2.23.0)\n",
            "Requirement already satisfied: pandas>=0.24 in /usr/local/lib/python3.7/dist-packages (from yfinance) (1.1.5)\n",
            "Requirement already satisfied: numpy>=1.15 in /usr/local/lib/python3.7/dist-packages (from yfinance) (1.19.5)\n",
            "Requirement already satisfied: python-dateutil>=2.7.3 in /usr/local/lib/python3.7/dist-packages (from pandas>=0.24->yfinance) (2.8.2)\n",
            "Requirement already satisfied: pytz>=2017.2 in /usr/local/lib/python3.7/dist-packages (from pandas>=0.24->yfinance) (2018.9)\n",
            "Requirement already satisfied: six>=1.5 in /usr/local/lib/python3.7/dist-packages (from python-dateutil>=2.7.3->pandas>=0.24->yfinance) (1.15.0)\n",
            "Requirement already satisfied: certifi>=2017.4.17 in /usr/local/lib/python3.7/dist-packages (from requests>=2.20->yfinance) (2021.5.30)\n",
            "Requirement already satisfied: idna<3,>=2.5 in /usr/local/lib/python3.7/dist-packages (from requests>=2.20->yfinance) (2.10)\n",
            "Requirement already satisfied: chardet<4,>=3.0.2 in /usr/local/lib/python3.7/dist-packages (from requests>=2.20->yfinance) (3.0.4)\n",
            "Requirement already satisfied: urllib3!=1.25.0,!=1.25.1,<1.26,>=1.21.1 in /usr/local/lib/python3.7/dist-packages (from requests>=2.20->yfinance) (1.24.3)\n"
          ],
          "name": "stdout"
        }
      ]
    },
    {
      "cell_type": "code",
      "metadata": {
        "id": "9ZnGb_YU4w9S"
      },
      "source": [
        "#Importing yf and matplotlib\n",
        "\n",
        "import yfinance as yf\n",
        "import matplotlib.pyplot as plt\n"
      ],
      "execution_count": 130,
      "outputs": []
    },
    {
      "cell_type": "code",
      "metadata": {
        "id": "C2maTTRz45LJ"
      },
      "source": [
        "# Reading Walmart Stock historical data\n",
        "pfizer = yf.Ticker('wmt')"
      ],
      "execution_count": 131,
      "outputs": []
    },
    {
      "cell_type": "code",
      "metadata": {
        "id": "3IAlSb73KXVX"
      },
      "source": [
        "#Taking the data over 10 year timeline\n",
        "history  =  pfizer.history(start=\"2011-08-12\",  end=\"2021-08-12\")"
      ],
      "execution_count": 18,
      "outputs": []
    },
    {
      "cell_type": "code",
      "metadata": {
        "colab": {
          "base_uri": "https://localhost:8080/",
          "height": 447
        },
        "id": "kCx8-uesKX2B",
        "outputId": "02cb31d0-4824-4069-e1e8-65765a2ab8c9"
      },
      "source": [
        "history"
      ],
      "execution_count": 19,
      "outputs": [
        {
          "output_type": "execute_result",
          "data": {
            "text/html": [
              "<div>\n",
              "<style scoped>\n",
              "    .dataframe tbody tr th:only-of-type {\n",
              "        vertical-align: middle;\n",
              "    }\n",
              "\n",
              "    .dataframe tbody tr th {\n",
              "        vertical-align: top;\n",
              "    }\n",
              "\n",
              "    .dataframe thead th {\n",
              "        text-align: right;\n",
              "    }\n",
              "</style>\n",
              "<table border=\"1\" class=\"dataframe\">\n",
              "  <thead>\n",
              "    <tr style=\"text-align: right;\">\n",
              "      <th></th>\n",
              "      <th>Open</th>\n",
              "      <th>High</th>\n",
              "      <th>Low</th>\n",
              "      <th>Close</th>\n",
              "      <th>Volume</th>\n",
              "      <th>Dividends</th>\n",
              "      <th>Stock Splits</th>\n",
              "    </tr>\n",
              "    <tr>\n",
              "      <th>Date</th>\n",
              "      <th></th>\n",
              "      <th></th>\n",
              "      <th></th>\n",
              "      <th></th>\n",
              "      <th></th>\n",
              "      <th></th>\n",
              "      <th></th>\n",
              "    </tr>\n",
              "  </thead>\n",
              "  <tbody>\n",
              "    <tr>\n",
              "      <th>2011-08-12</th>\n",
              "      <td>39.687051</td>\n",
              "      <td>39.853407</td>\n",
              "      <td>39.037483</td>\n",
              "      <td>39.409798</td>\n",
              "      <td>15160400</td>\n",
              "      <td>0.0</td>\n",
              "      <td>0</td>\n",
              "    </tr>\n",
              "    <tr>\n",
              "      <th>2011-08-15</th>\n",
              "      <td>39.512781</td>\n",
              "      <td>39.671213</td>\n",
              "      <td>39.045408</td>\n",
              "      <td>39.591995</td>\n",
              "      <td>14829700</td>\n",
              "      <td>0.0</td>\n",
              "      <td>0</td>\n",
              "    </tr>\n",
              "    <tr>\n",
              "      <th>2011-08-16</th>\n",
              "      <td>40.748538</td>\n",
              "      <td>41.572382</td>\n",
              "      <td>40.495048</td>\n",
              "      <td>41.128773</td>\n",
              "      <td>25595500</td>\n",
              "      <td>0.0</td>\n",
              "      <td>0</td>\n",
              "    </tr>\n",
              "    <tr>\n",
              "      <th>2011-08-17</th>\n",
              "      <td>40.970350</td>\n",
              "      <td>41.334742</td>\n",
              "      <td>40.526741</td>\n",
              "      <td>40.835682</td>\n",
              "      <td>15513400</td>\n",
              "      <td>0.0</td>\n",
              "      <td>0</td>\n",
              "    </tr>\n",
              "    <tr>\n",
              "      <th>2011-08-18</th>\n",
              "      <td>40.011840</td>\n",
              "      <td>41.152548</td>\n",
              "      <td>39.853411</td>\n",
              "      <td>41.025803</td>\n",
              "      <td>25045700</td>\n",
              "      <td>0.0</td>\n",
              "      <td>0</td>\n",
              "    </tr>\n",
              "    <tr>\n",
              "      <th>...</th>\n",
              "      <td>...</td>\n",
              "      <td>...</td>\n",
              "      <td>...</td>\n",
              "      <td>...</td>\n",
              "      <td>...</td>\n",
              "      <td>...</td>\n",
              "      <td>...</td>\n",
              "    </tr>\n",
              "    <tr>\n",
              "      <th>2021-08-05</th>\n",
              "      <td>143.701183</td>\n",
              "      <td>145.006378</td>\n",
              "      <td>143.462073</td>\n",
              "      <td>144.956573</td>\n",
              "      <td>9001800</td>\n",
              "      <td>0.0</td>\n",
              "      <td>0</td>\n",
              "    </tr>\n",
              "    <tr>\n",
              "      <th>2021-08-06</th>\n",
              "      <td>145.673943</td>\n",
              "      <td>145.932984</td>\n",
              "      <td>144.418553</td>\n",
              "      <td>144.697525</td>\n",
              "      <td>6420200</td>\n",
              "      <td>0.0</td>\n",
              "      <td>0</td>\n",
              "    </tr>\n",
              "    <tr>\n",
              "      <th>2021-08-09</th>\n",
              "      <td>145.375041</td>\n",
              "      <td>145.942944</td>\n",
              "      <td>144.866901</td>\n",
              "      <td>145.046249</td>\n",
              "      <td>5270600</td>\n",
              "      <td>0.0</td>\n",
              "      <td>0</td>\n",
              "    </tr>\n",
              "    <tr>\n",
              "      <th>2021-08-10</th>\n",
              "      <td>146.431150</td>\n",
              "      <td>148.403887</td>\n",
              "      <td>145.713789</td>\n",
              "      <td>148.134872</td>\n",
              "      <td>12754000</td>\n",
              "      <td>0.0</td>\n",
              "      <td>0</td>\n",
              "    </tr>\n",
              "    <tr>\n",
              "      <th>2021-08-11</th>\n",
              "      <td>148.961825</td>\n",
              "      <td>151.024242</td>\n",
              "      <td>148.613117</td>\n",
              "      <td>149.459991</td>\n",
              "      <td>13818600</td>\n",
              "      <td>0.0</td>\n",
              "      <td>0</td>\n",
              "    </tr>\n",
              "  </tbody>\n",
              "</table>\n",
              "<p>2516 rows × 7 columns</p>\n",
              "</div>"
            ],
            "text/plain": [
              "                  Open        High  ...  Dividends  Stock Splits\n",
              "Date                                ...                         \n",
              "2011-08-12   39.687051   39.853407  ...        0.0             0\n",
              "2011-08-15   39.512781   39.671213  ...        0.0             0\n",
              "2011-08-16   40.748538   41.572382  ...        0.0             0\n",
              "2011-08-17   40.970350   41.334742  ...        0.0             0\n",
              "2011-08-18   40.011840   41.152548  ...        0.0             0\n",
              "...                ...         ...  ...        ...           ...\n",
              "2021-08-05  143.701183  145.006378  ...        0.0             0\n",
              "2021-08-06  145.673943  145.932984  ...        0.0             0\n",
              "2021-08-09  145.375041  145.942944  ...        0.0             0\n",
              "2021-08-10  146.431150  148.403887  ...        0.0             0\n",
              "2021-08-11  148.961825  151.024242  ...        0.0             0\n",
              "\n",
              "[2516 rows x 7 columns]"
            ]
          },
          "metadata": {
            "tags": []
          },
          "execution_count": 19
        }
      ]
    },
    {
      "cell_type": "code",
      "metadata": {
        "id": "GUc0WydtKdus",
        "colab": {
          "base_uri": "https://localhost:8080/",
          "height": 839
        },
        "outputId": "4eea8cc9-5284-400a-9768-4479bb4b8fd7"
      },
      "source": [
        "#Plotting the closing data of each day over the timeline\n",
        "\n",
        "plt.figure(figsize=(14,14))\n",
        "plt.plot(history['Close'])\n",
        "plt.title('Historical Stock Value')\n",
        "plt.xlabel('Date')\n",
        "plt.ylabel('Stock Price')\n",
        "plt.show()"
      ],
      "execution_count": 20,
      "outputs": [
        {
          "output_type": "display_data",
          "data": {
            "image/png": "[encoded data removed]",
            "text/plain": [
              "<Figure size 1008x1008 with 1 Axes>"
            ]
          },
          "metadata": {
            "tags": [],
            "needs_background": "light"
          }
        }
      ]
    },
    {
      "cell_type": "code",
      "metadata": {
        "id": "gdDynXUbotKa"
      },
      "source": [
        "#Importing necessary libraries \n",
        "\n",
        "import keras\n",
        "import pandas as pd\n",
        "import numpy as np\n",
        "from keras.models import Sequential\n",
        "from keras.layers import *\n",
        "from sklearn.preprocessing import MinMaxScaler\n",
        "from sklearn.metrics import mean_squared_error,mean_absolute_error\n",
        "from sklearn.model_selection import train_test_split"
      ],
      "execution_count": 21,
      "outputs": []
    },
    {
      "cell_type": "code",
      "metadata": {
        "id": "-Z5664g8SGks"
      },
      "source": [
        "#Splitting data into train and test. The first 2000 days is for training\n",
        "#The rest of the days are for test\n",
        "train = history.iloc[:2000,3:4].values\n",
        "test = history.iloc[2000:,3:4].values"
      ],
      "execution_count": 22,
      "outputs": []
    },
    {
      "cell_type": "code",
      "metadata": {
        "colab": {
          "base_uri": "https://localhost:8080/"
        },
        "id": "toaQ41OlSV4q",
        "outputId": "a38d3c58-e62c-4d85-f4f3-e2dfb42087a1"
      },
      "source": [
        "#Scaling the feature for better convergence. \n",
        "\"\"\"\n",
        "Dividing training set into X and Y by training on 50 days of data\n",
        "Predicting on the next day and then update the weights accordingly\n",
        "\"\"\"\n",
        "x_train = []\n",
        "y_train = []\n",
        "scaler = MinMaxScaler(feature_range=(0,1))\n",
        "scaled_train = scaler.fit_transform(train)\n",
        "for i in range(50,2000):\n",
        "  x_train.append(scaled_train[i-50:i,0])\n",
        "  y_train.append(scaled_train[i,0])\n",
        "x_train = np.asarray(x_train)\n",
        "y_train = np.asarray(y_train)\n",
        "\n",
        "x_train = np.reshape(x_train,(x_train.shape[0],x_train.shape[1],1))\n",
        "y_train.shape"
      ],
      "execution_count": 132,
      "outputs": [
        {
          "output_type": "execute_result",
          "data": {
            "text/plain": [
              "(1950,)"
            ]
          },
          "metadata": {
            "tags": []
          },
          "execution_count": 132
        }
      ]
    },
    {
      "cell_type": "code",
      "metadata": {
        "colab": {
          "base_uri": "https://localhost:8080/"
        },
        "id": "qc_mupwNW40e",
        "outputId": "ebdb3f6d-74b3-4b49-a834-870de2ee7d1c"
      },
      "source": [
        "\"\"\"\n",
        "Declaring an LSTM model with optimizer Adam and Mean Squared Error loss\n",
        "Used dropouts to prevent overfitting and introduce regularization\n",
        "\"\"\"\n",
        "\n",
        "model = Sequential()\n",
        "#Adding LSTM layers with some Dropout regularisation\n",
        "model.add(LSTM(units = 100, return_sequences = True, input_shape = (x_train.shape[1], 1)))\n",
        "model.add(Dropout(0.2))\n",
        "model.add(LSTM(units = 50, return_sequences = True))\n",
        "model.add(Dropout(0.2))\n",
        "model.add(LSTM(units = 100, return_sequences = True))\n",
        "model.add(Dropout(0.2))\n",
        "model.add(LSTM(units = 50))\n",
        "model.add(Dropout(0.2))\n",
        "# Adding the output layer\n",
        "model.add(Dense(units = 1))\n",
        "model.compile(optimizer = 'adam',loss = 'mean_squared_error')\n",
        "model.fit(x_train,y_train,epochs = 100,batch_size = 32)\n"
      ],
      "execution_count": 123,
      "outputs": [
        {
          "output_type": "stream",
          "text": [
            "Epoch 1/100\n",
            "61/61 [==============================] - 6s 16ms/step - loss: 0.0391\n",
            "Epoch 2/100\n",
            "61/61 [==============================] - 1s 16ms/step - loss: 0.0040\n",
            "Epoch 3/100\n",
            "61/61 [==============================] - 1s 16ms/step - loss: 0.0036\n",
            "Epoch 4/100\n",
            "61/61 [==============================] - 1s 16ms/step - loss: 0.0028\n",
            "Epoch 5/100\n",
            "61/61 [==============================] - 1s 16ms/step - loss: 0.0030\n",
            "Epoch 6/100\n",
            "61/61 [==============================] - 1s 16ms/step - loss: 0.0024\n",
            "Epoch 7/100\n",
            "61/61 [==============================] - 1s 16ms/step - loss: 0.0024\n",
            "Epoch 8/100\n",
            "61/61 [==============================] - 1s 16ms/step - loss: 0.0026\n",
            "Epoch 9/100\n",
            "61/61 [==============================] - 1s 16ms/step - loss: 0.0024\n",
            "Epoch 10/100\n",
            "61/61 [==============================] - 1s 16ms/step - loss: 0.0022\n",
            "Epoch 11/100\n",
            "61/61 [==============================] - 1s 15ms/step - loss: 0.0021\n",
            "Epoch 12/100\n",
            "61/61 [==============================] - 1s 15ms/step - loss: 0.0021\n",
            "Epoch 13/100\n",
            "61/61 [==============================] - 1s 15ms/step - loss: 0.0021\n",
            "Epoch 14/100\n",
            "61/61 [==============================] - 1s 15ms/step - loss: 0.0024\n",
            "Epoch 15/100\n",
            "61/61 [==============================] - 1s 15ms/step - loss: 0.0018\n",
            "Epoch 16/100\n",
            "61/61 [==============================] - 1s 15ms/step - loss: 0.0020\n",
            "Epoch 17/100\n",
            "61/61 [==============================] - 1s 15ms/step - loss: 0.0017\n",
            "Epoch 18/100\n",
            "61/61 [==============================] - 1s 15ms/step - loss: 0.0019\n",
            "Epoch 19/100\n",
            "61/61 [==============================] - 1s 15ms/step - loss: 0.0016\n",
            "Epoch 20/100\n",
            "61/61 [==============================] - 1s 15ms/step - loss: 0.0015\n",
            "Epoch 21/100\n",
            "61/61 [==============================] - 1s 16ms/step - loss: 0.0018\n",
            "Epoch 22/100\n",
            "61/61 [==============================] - 1s 15ms/step - loss: 0.0015\n",
            "Epoch 23/100\n",
            "61/61 [==============================] - 1s 15ms/step - loss: 0.0016\n",
            "Epoch 24/100\n",
            "61/61 [==============================] - 1s 15ms/step - loss: 0.0013\n",
            "Epoch 25/100\n",
            "61/61 [==============================] - 1s 15ms/step - loss: 0.0014\n",
            "Epoch 26/100\n",
            "61/61 [==============================] - 1s 15ms/step - loss: 0.0016\n",
            "Epoch 27/100\n",
            "61/61 [==============================] - 1s 15ms/step - loss: 0.0014\n",
            "Epoch 28/100\n",
            "61/61 [==============================] - 1s 15ms/step - loss: 0.0012\n",
            "Epoch 29/100\n",
            "61/61 [==============================] - 1s 15ms/step - loss: 0.0014\n",
            "Epoch 30/100\n",
            "61/61 [==============================] - 1s 15ms/step - loss: 0.0012\n",
            "Epoch 31/100\n",
            "61/61 [==============================] - 1s 15ms/step - loss: 0.0011\n",
            "Epoch 32/100\n",
            "61/61 [==============================] - 1s 16ms/step - loss: 0.0013\n",
            "Epoch 33/100\n",
            "61/61 [==============================] - 1s 15ms/step - loss: 0.0012\n",
            "Epoch 34/100\n",
            "61/61 [==============================] - 1s 15ms/step - loss: 0.0012\n",
            "Epoch 35/100\n",
            "61/61 [==============================] - 1s 15ms/step - loss: 0.0011\n",
            "Epoch 36/100\n",
            "61/61 [==============================] - 1s 15ms/step - loss: 0.0011\n",
            "Epoch 37/100\n",
            "61/61 [==============================] - 1s 15ms/step - loss: 0.0012\n",
            "Epoch 38/100\n",
            "61/61 [==============================] - 1s 15ms/step - loss: 9.1952e-04\n",
            "Epoch 39/100\n",
            "61/61 [==============================] - 1s 15ms/step - loss: 0.0011\n",
            "Epoch 40/100\n",
            "61/61 [==============================] - 1s 15ms/step - loss: 0.0012\n",
            "Epoch 41/100\n",
            "61/61 [==============================] - 1s 16ms/step - loss: 9.3229e-04\n",
            "Epoch 42/100\n",
            "61/61 [==============================] - 1s 16ms/step - loss: 0.0011\n",
            "Epoch 43/100\n",
            "61/61 [==============================] - 1s 15ms/step - loss: 9.0704e-04\n",
            "Epoch 44/100\n",
            "61/61 [==============================] - 1s 16ms/step - loss: 0.0013\n",
            "Epoch 45/100\n",
            "61/61 [==============================] - 1s 15ms/step - loss: 0.0010\n",
            "Epoch 46/100\n",
            "61/61 [==============================] - 1s 15ms/step - loss: 9.2897e-04\n",
            "Epoch 47/100\n",
            "61/61 [==============================] - 1s 16ms/step - loss: 9.4517e-04\n",
            "Epoch 48/100\n",
            "61/61 [==============================] - 1s 16ms/step - loss: 9.3985e-04\n",
            "Epoch 49/100\n",
            "61/61 [==============================] - 1s 15ms/step - loss: 8.8511e-04\n",
            "Epoch 50/100\n",
            "61/61 [==============================] - 1s 15ms/step - loss: 9.8637e-04\n",
            "Epoch 51/100\n",
            "61/61 [==============================] - 1s 15ms/step - loss: 8.4702e-04\n",
            "Epoch 52/100\n",
            "61/61 [==============================] - 1s 15ms/step - loss: 9.3981e-04\n",
            "Epoch 53/100\n",
            "61/61 [==============================] - 1s 16ms/step - loss: 8.3010e-04\n",
            "Epoch 54/100\n",
            "61/61 [==============================] - 1s 15ms/step - loss: 8.5886e-04\n",
            "Epoch 55/100\n",
            "61/61 [==============================] - 1s 16ms/step - loss: 8.6646e-04\n",
            "Epoch 56/100\n",
            "61/61 [==============================] - 1s 16ms/step - loss: 8.4335e-04\n",
            "Epoch 57/100\n",
            "61/61 [==============================] - 1s 16ms/step - loss: 8.7851e-04\n",
            "Epoch 58/100\n",
            "61/61 [==============================] - 1s 16ms/step - loss: 8.6120e-04\n",
            "Epoch 59/100\n",
            "61/61 [==============================] - 1s 16ms/step - loss: 8.2429e-04\n",
            "Epoch 60/100\n",
            "61/61 [==============================] - 1s 16ms/step - loss: 7.6088e-04\n",
            "Epoch 61/100\n",
            "61/61 [==============================] - 1s 17ms/step - loss: 7.1927e-04\n",
            "Epoch 62/100\n",
            "61/61 [==============================] - 1s 16ms/step - loss: 8.4893e-04\n",
            "Epoch 63/100\n",
            "61/61 [==============================] - 1s 17ms/step - loss: 7.8725e-04\n",
            "Epoch 64/100\n",
            "61/61 [==============================] - 1s 17ms/step - loss: 7.7913e-04\n",
            "Epoch 65/100\n",
            "61/61 [==============================] - 1s 17ms/step - loss: 7.0465e-04\n",
            "Epoch 66/100\n",
            "61/61 [==============================] - 1s 16ms/step - loss: 7.9227e-04\n",
            "Epoch 67/100\n",
            "61/61 [==============================] - 1s 17ms/step - loss: 9.5353e-04\n",
            "Epoch 68/100\n",
            "61/61 [==============================] - 1s 17ms/step - loss: 7.7333e-04\n",
            "Epoch 69/100\n",
            "61/61 [==============================] - 1s 16ms/step - loss: 8.3539e-04\n",
            "Epoch 70/100\n",
            "61/61 [==============================] - 1s 17ms/step - loss: 9.1098e-04\n",
            "Epoch 71/100\n",
            "61/61 [==============================] - 1s 17ms/step - loss: 8.1465e-04\n",
            "Epoch 72/100\n",
            "61/61 [==============================] - 1s 17ms/step - loss: 7.8448e-04\n",
            "Epoch 73/100\n",
            "61/61 [==============================] - 1s 17ms/step - loss: 6.2312e-04\n",
            "Epoch 74/100\n",
            "61/61 [==============================] - 1s 17ms/step - loss: 7.9338e-04\n",
            "Epoch 75/100\n",
            "61/61 [==============================] - 1s 17ms/step - loss: 7.4603e-04\n",
            "Epoch 76/100\n",
            "61/61 [==============================] - 1s 16ms/step - loss: 6.8926e-04\n",
            "Epoch 77/100\n",
            "61/61 [==============================] - 1s 17ms/step - loss: 6.9025e-04\n",
            "Epoch 78/100\n",
            "61/61 [==============================] - 1s 16ms/step - loss: 6.8249e-04\n",
            "Epoch 79/100\n",
            "61/61 [==============================] - 1s 16ms/step - loss: 6.6475e-04\n",
            "Epoch 80/100\n",
            "61/61 [==============================] - 1s 17ms/step - loss: 6.4000e-04\n",
            "Epoch 81/100\n",
            "61/61 [==============================] - 1s 16ms/step - loss: 6.9077e-04\n",
            "Epoch 82/100\n",
            "61/61 [==============================] - 1s 16ms/step - loss: 6.7023e-04\n",
            "Epoch 83/100\n",
            "61/61 [==============================] - 1s 15ms/step - loss: 6.3233e-04\n",
            "Epoch 84/100\n",
            "61/61 [==============================] - 1s 16ms/step - loss: 6.3145e-04\n",
            "Epoch 85/100\n",
            "61/61 [==============================] - 1s 16ms/step - loss: 7.3943e-04\n",
            "Epoch 86/100\n",
            "61/61 [==============================] - 1s 15ms/step - loss: 6.1108e-04\n",
            "Epoch 87/100\n",
            "61/61 [==============================] - 1s 16ms/step - loss: 6.7386e-04\n",
            "Epoch 88/100\n",
            "61/61 [==============================] - 1s 16ms/step - loss: 5.9636e-04\n",
            "Epoch 89/100\n",
            "61/61 [==============================] - 1s 16ms/step - loss: 5.5540e-04\n",
            "Epoch 90/100\n",
            "61/61 [==============================] - 1s 16ms/step - loss: 6.1991e-04\n",
            "Epoch 91/100\n",
            "61/61 [==============================] - 1s 16ms/step - loss: 6.8421e-04\n",
            "Epoch 92/100\n",
            "61/61 [==============================] - 1s 16ms/step - loss: 5.5818e-04\n",
            "Epoch 93/100\n",
            "61/61 [==============================] - 1s 16ms/step - loss: 6.1195e-04\n",
            "Epoch 94/100\n",
            "61/61 [==============================] - 1s 16ms/step - loss: 6.3162e-04\n",
            "Epoch 95/100\n",
            "61/61 [==============================] - 1s 16ms/step - loss: 6.9652e-04\n",
            "Epoch 96/100\n",
            "61/61 [==============================] - 1s 16ms/step - loss: 6.0977e-04\n",
            "Epoch 97/100\n",
            "61/61 [==============================] - 1s 15ms/step - loss: 5.6218e-04\n",
            "Epoch 98/100\n",
            "61/61 [==============================] - 1s 15ms/step - loss: 4.8314e-04\n",
            "Epoch 99/100\n",
            "61/61 [==============================] - 1s 16ms/step - loss: 5.7415e-04\n",
            "Epoch 100/100\n",
            "61/61 [==============================] - 1s 16ms/step - loss: 6.1404e-04\n"
          ],
          "name": "stdout"
        },
        {
          "output_type": "execute_result",
          "data": {
            "text/plain": [
              "<keras.callbacks.History at 0x7fc08fe927d0>"
            ]
          },
          "metadata": {
            "tags": []
          },
          "execution_count": 123
        }
      ]
    },
    {
      "cell_type": "code",
      "metadata": {
        "id": "snh22rPyesA4"
      },
      "source": [
        "\"\"\"\n",
        "The test set needs previous 50 values before the start of test set to start predicting\n",
        "So the train and test are combined first and the data 50 points before test set is also taken\n",
        "for prediction purposes. The test set is also scaled.\n",
        "\"\"\"\n",
        "\n",
        "\n",
        "temp_train = history.iloc[:2000,3:4]\n",
        "temp_test = history.iloc[2000:,3:4]\n",
        "combined = pd.concat((temp_train,temp_test),axis = 0)\n",
        "temp = combined[len(combined) - len(temp_test)-50:].values\n",
        "temp = temp.reshape(-1,1)\n",
        "temp = scaler.transform(temp)\n",
        "x_test = []\n",
        "for i in range(50,566):\n",
        "  x_test.append(temp[i-50:i,0])\n",
        "x_test = np.asarray(x_test)\n",
        "x_test = np.reshape(x_test,(x_test.shape[0],x_test.shape[1],1))"
      ],
      "execution_count": 124,
      "outputs": []
    },
    {
      "cell_type": "code",
      "metadata": {
        "colab": {
          "base_uri": "https://localhost:8080/"
        },
        "id": "YrL14xXgyrXR",
        "outputId": "23a6671f-b823-4a99-c15b-c02a1f306277"
      },
      "source": [
        "x_test.shape"
      ],
      "execution_count": 125,
      "outputs": [
        {
          "output_type": "execute_result",
          "data": {
            "text/plain": [
              "(516, 50, 1)"
            ]
          },
          "metadata": {
            "tags": []
          },
          "execution_count": 125
        }
      ]
    },
    {
      "cell_type": "code",
      "metadata": {
        "colab": {
          "base_uri": "https://localhost:8080/"
        },
        "id": "jRZ5ONcKv0Df",
        "outputId": "4452526c-85d5-457c-d1df-e0b85d19db80"
      },
      "source": [
        "#The prediction of model on test set\n",
        "predicted_dnn = model.predict(x_test)\n",
        "predicted_dnn.shape"
      ],
      "execution_count": 126,
      "outputs": [
        {
          "output_type": "execute_result",
          "data": {
            "text/plain": [
              "(516, 1)"
            ]
          },
          "metadata": {
            "tags": []
          },
          "execution_count": 126
        }
      ]
    },
    {
      "cell_type": "code",
      "metadata": {
        "id": "DAwrW4ZRv76y"
      },
      "source": [
        "#The predicted values are scaled back to original values\n",
        "predicted_dnn = scaler.inverse_transform(predicted_dnn)"
      ],
      "execution_count": 127,
      "outputs": []
    },
    {
      "cell_type": "code",
      "metadata": {
        "colab": {
          "base_uri": "https://localhost:8080/",
          "height": 295
        },
        "id": "9FrZQLF4wNu9",
        "outputId": "ded0e729-2796-4e23-a0d6-2c7327fc66ec"
      },
      "source": [
        "\"\"\"\n",
        "Both the real stock price and predicted price are illustrated using the plot.\n",
        "\"\"\"\n",
        "\n",
        "plt.plot(predicted_dnn,color = 'green')\n",
        "plt.plot(test,color = 'red')\n",
        "plt.legend([\"Predicted stock value\", \"Real stock value \"], loc =\"lower right\")\n",
        "plt.title('Historical Stock Value')\n",
        "plt.xlabel('Days')\n",
        "plt.ylabel('Stock Price')\n",
        "plt.show()"
      ],
      "execution_count": 147,
      "outputs": [
        {
          "output_type": "display_data",
          "data": {
            "image/png": "[encoded data removed]",
            "text/plain": [
              "<Figure size 432x288 with 1 Axes>"
            ]
          },
          "metadata": {
            "tags": [],
            "needs_background": "light"
          }
        }
      ]
    },
    {
      "cell_type": "code",
      "metadata": {
        "id": "CkAeT7TjxWYB"
      },
      "source": [
        ""
      ],
      "execution_count": null,
      "outputs": []
    }
  ]
}